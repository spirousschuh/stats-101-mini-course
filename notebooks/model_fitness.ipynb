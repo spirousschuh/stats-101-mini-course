version https://git-lfs.github.com/spec/v1
oid sha256:2dea4e1efec867b5a0df7c505b8bc2dc7608f0a0c144d2d931d2d81b3930fb32
size 1436251
