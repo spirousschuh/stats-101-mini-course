version https://git-lfs.github.com/spec/v1
oid sha256:5ebbff99436a5c11b3f14315756ab24e2347bcfdbe70e7592ad381f84734f835
size 111381
